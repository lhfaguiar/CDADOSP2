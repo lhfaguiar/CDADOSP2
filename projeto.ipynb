{
  "nbformat": 4,
  "nbformat_minor": 0,
  "metadata": {
    "colab": {
      "name": "projeto.ipynb",
      "provenance": [],
      "collapsed_sections": []
    },
    "kernelspec": {
      "name": "python3",
      "display_name": "Python 3"
    }
  },
  "cells": [
    {
      "cell_type": "markdown",
      "metadata": {
        "id": "jxsQQq0iJFXJ"
      },
      "source": [
        "# Ciência dos Dados - 2020 / Segundo Semestre\n",
        "\n",
        "## Projeto 2"
      ]
    },
    {
      "cell_type": "code",
      "metadata": {
        "id": "3-rt3dgFJFXV",
        "outputId": "108eefa3-989b-4127-c1dd-35382abd685f",
        "colab": {
          "base_uri": "https://localhost:8080/"
        }
      },
      "source": [
        "import pandas as pd\n",
        "import csv\n",
        "import numpy as np\n",
        "\n",
        "\"\"\"\n",
        "Grupo:\n",
        "Carlos Simodo\n",
        "Lai Aguiar\n",
        "\n",
        "Abre csv disponível no repositório https://github.com/seade-R/dados-covid-sp\n",
        "público com dados da covid no estado de São Paulo\n",
        "\"\"\"\n",
        "data = pd.read_csv('casos_obitos_doencas_preexistentes.csv', sep=';')\n",
        "\n",
        "\n",
        "# Eliminamos a coluna codigo_ibge por ela não nos trazer uma informação relevante,\n",
        "# já que trabalhamos com a probabilidade de óbito a partir de comorbidades, local\n",
        "# de diagnóstico, idade, sexo \n",
        "del data['codigo_ibge']\n",
        "\n",
        "# Eliminamos as linhas da tabela onde temos informações repetidas e \n",
        "# incoerentes como idade = 120 anos\n",
        "# Também eliminamos todos identificadores IGNORADO ou vazios\n",
        "data = data[data['idade'] < 120]\n",
        "\n",
        "data = data[data != 'IGNORADO']\n",
        "\n",
        "data = data.dropna()\n",
        "# data = data[data != np.nan()]\n",
        "# data = data.replace('IGNORADO', 'NÃO')\n",
        "# data = data.replace('NaN', 'NÃO')\n",
        "\n",
        "data.to_csv('casos_obitos_doencas_preexistentes_tratado.csv', sep=';')\n",
        "\n",
        "print(data)\n",
        "\n",
        "\n"
      ],
      "execution_count": 53,
      "outputs": [
        {
          "output_type": "stream",
          "text": [
            "                    nome_munic  idade  ... puerpera sindrome_de_down\n",
            "307                  Guarulhos   64.0  ...      NÃO              NÃO\n",
            "310      São Bernardo do Campo   55.0  ...      NÃO              NÃO\n",
            "326                   Campinas   65.0  ...      NÃO              NÃO\n",
            "327                   Campinas   83.0  ...      NÃO              NÃO\n",
            "328              Guaratinguetá   74.0  ...      NÃO              NÃO\n",
            "...                        ...    ...  ...      ...              ...\n",
            "1045019              São Paulo   85.0  ...      NÃO              NÃO\n",
            "1045020               Campinas   96.0  ...      NÃO              NÃO\n",
            "1045024         Ribeirão Preto   87.0  ...      NÃO              NÃO\n",
            "1045025              São Paulo   71.0  ...      NÃO              NÃO\n",
            "1045032             Mogi Guaçu   68.0  ...      NÃO              NÃO\n",
            "\n",
            "[46528 rows x 19 columns]\n"
          ],
          "name": "stdout"
        }
      ]
    }
  ]
}
