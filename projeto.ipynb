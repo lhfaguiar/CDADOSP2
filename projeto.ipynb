{
  "nbformat": 4,
  "nbformat_minor": 0,
  "metadata": {
    "colab": {
      "name": "projeto.ipynb",
      "provenance": [],
      "collapsed_sections": [],
      "toc_visible": true
    },
    "kernelspec": {
      "name": "python3",
      "display_name": "Python 3"
    }
  },
  "cells": [
    {
      "cell_type": "markdown",
      "metadata": {
        "id": "jxsQQq0iJFXJ"
      },
      "source": [
        "# Ciência dos Dados - 2020 / Segundo Semestre\n",
        "\n",
        "## Projeto 2"
      ]
    },
    {
      "cell_type": "markdown",
      "metadata": {
        "id": "fWnPS66pwPOT"
      },
      "source": [
        "# Entrega 1"
      ]
    },
    {
      "cell_type": "code",
      "metadata": {
        "id": "3-rt3dgFJFXV"
      },
      "source": [
        "import pandas as pd\n",
        "import csv\n",
        "import numpy as np\n",
        "%matplotlib inline\n",
        "import matplotlib.pyplot as plt\n",
        "\n",
        "\"\"\"\n",
        "Grupo:\n",
        "Carlos Simodo\n",
        "Lai Aguiar\n",
        "\n",
        "Abre csv disponível no repositório https://github.com/seade-R/dados-covid-sp\n",
        "público com dados da covid no estado de São Paulo\n",
        "\"\"\"\n",
        "data = pd.read_csv('casos_obitos_doencas_preexistentes.csv', sep=';')\n",
        "\n",
        "\n",
        "# Eliminamos a coluna codigo_ibge por ela não nos trazer uma informação relevante,\n",
        "# já que trabalhamos com a probabilidade de óbito a partir de comorbidades, local\n",
        "# de diagnóstico, idade, sexo \n",
        "del data['codigo_ibge']\n",
        "\n",
        "# Eliminamos as linhas da tabela onde temos informações repetidas e \n",
        "# incoerentes como idade = 120 anos\n",
        "# Também eliminamos todos identificadores IGNORADO ou vazios\n",
        "data = data[data['idade'] < 120]\n",
        "\n",
        "data = data.applymap(lambda x: np.nan if x == 'IGNORADO' else x).dropna()\n",
        "# data = data[data != np.nan()]\n",
        "# data = data.replace('IGNORADO', 'NÃO')\n",
        "# data = data.replace('NaN', 'NÃO')\n",
        "\n",
        "data.to_csv('casos_obitos_doencas_preexistentes_tratado.csv', sep=';')\n",
        "\n",
        "\n",
        "\n",
        "data_copy = data.copy()\n",
        "train = data_copy.sample(frac=0.75, random_state=0)\n",
        "test = data_copy.drop(train.index)\n"
      ],
      "execution_count": null,
      "outputs": []
    },
    {
      "cell_type": "markdown",
      "metadata": {
        "id": "Mw_9ju_6wR5f"
      },
      "source": [
        "# Entrega 2"
      ]
    },
    {
      "cell_type": "markdown",
      "metadata": {
        "id": "Jg3vfSjTwv09"
      },
      "source": [
        "#### Para analisarmos os dados, decidimos começar pela idade para ter uma ideia do perfil dos entrevistados"
      ]
    },
    {
      "cell_type": "code",
      "metadata": {
        "id": "y5Zk63Scw6Ub",
        "colab": {
          "base_uri": "https://localhost:8080/"
        },
        "outputId": "81304dd5-d1cb-4d61-8724-66e230bc9c63"
      },
      "source": [
        "media_idade = data['idade'].mean()\n",
        "mediana_idade = data['idade'].median()\n",
        "moda_idade = data['idade'].mode()\n",
        "var_idade = data['idade'].var()\n",
        "std_idade = data['idade'].std()\n",
        "\n",
        "print('A média de idade no nosso dataset é :', media_idade, '')\n",
        "print('A variância da idade no nosso dataset é: ', var_idade)\n",
        "print('O desvio padrão da idade no nosso dataset é: ', std_idade, 'que significa que os dados não estão muito espalhados')\n",
        "print('A mediana da idade no nosso dataset é: ', mediana_idade)\n",
        "print('A moda de idade no nosso dataset é: ', moda_idade, 'uma idade alta muito frequente')"
      ],
      "execution_count": null,
      "outputs": [
        {
          "output_type": "stream",
          "text": [
            "A média de idade no nosso dataset é : 62.72689380210221 \n",
            "A variância da idade no nosso dataset é:  282.08110004708567\n",
            "O desvio padrão da idade no nosso dataset é:  16.795270168922134 que significa que os dados não estão muito espalhados\n",
            "A mediana da idade no nosso dataset é:  64.0\n",
            "A moda de idade no nosso dataset é:  0    70.0\n",
            "dtype: float64 uma idade alta muito frequente\n"
          ],
          "name": "stdout"
        }
      ]
    },
    {
      "cell_type": "markdown",
      "metadata": {
        "id": "dE53qGYKxjmj"
      },
      "source": [
        "#### Percebemos que tanto a idade média quanto a mediana e a moda estão muito altas, indicando que a maioria dos entrevistados possuem idades elevadas.Tendo analisado um pouco sobre os entrevistados, decidimos verificar a influência de cada doenca pré existente com o óbito."
      ]
    },
    {
      "cell_type": "code",
      "metadata": {
        "id": "ez3KIAFCKvBJ",
        "colab": {
          "base_uri": "https://localhost:8080/"
        },
        "outputId": "08248005-c57e-40fa-c5ed-2ae6853db047"
      },
      "source": [
        "data_temp = data.replace({'NÃO': 0, 'SIM': 1})\n",
        "print(data_temp.corr())"
      ],
      "execution_count": null,
      "outputs": [
        {
          "output_type": "stream",
          "text": [
            "                            idade     obito  ...  puerpera  sindrome_de_down\n",
            "idade                    1.000000  0.317506  ... -0.043152         -0.037831\n",
            "obito                    0.317506  1.000000  ... -0.016626         -0.008298\n",
            "asma                    -0.086396 -0.043465  ...  0.000666         -0.002162\n",
            "cardiopatia              0.239319  0.071243  ... -0.028978         -0.009117\n",
            "diabetes                 0.096856  0.035643  ... -0.033648         -0.003749\n",
            "doenca_hematologica     -0.010112  0.035903  ...  0.017625          0.059561\n",
            "doenca_hepatica         -0.020659  0.035517  ... -0.007625          0.035274\n",
            "doenca_neurologica       0.155402  0.132156  ... -0.006152          0.021346\n",
            "doenca_renal             0.055345  0.079080  ... -0.004828          0.024038\n",
            "imunodepressao          -0.029915  0.061633  ...  0.001869          0.012351\n",
            "obesidade               -0.180636 -0.019185  ... -0.000527         -0.004642\n",
            "outros_fatores_de_risco -0.009685  0.044120  ... -0.013735         -0.013074\n",
            "pneumopatia              0.095598  0.091790  ... -0.004042          0.014800\n",
            "puerpera                -0.043152 -0.016626  ...  1.000000         -0.004437\n",
            "sindrome_de_down        -0.037831 -0.008298  ... -0.004437          1.000000\n",
            "\n",
            "[15 rows x 15 columns]\n"
          ],
          "name": "stdout"
        }
      ]
    },
    {
      "cell_type": "markdown",
      "metadata": {
        "id": "xaQl9L9IzP3C"
      },
      "source": [
        "#### Com a matriz de correlação, podemos visualizar a correlação entre as doencas e o numero de mortos. Embora gráficos de dispersão sejam ótimas ferramentas para isso, decidimos nao plotar gráficos com o scatter plot, uma vez que ele é melhor para variáveis continuas, e nossos dados são em sua maioria variáveis binárias"
      ]
    },
    {
      "cell_type": "markdown",
      "metadata": {
        "id": "aLdFLuhXz7bZ"
      },
      "source": [
        "#### Tendo descoberta as correlações, buscamos descobrir a prevalencia das doenças nos entrevistados, e para isso utilizamos gráficos de setores(pizza) para termos uma ideia mais geral, apenas da proporção."
      ]
    },
    {
      "cell_type": "code",
      "metadata": {
        "id": "ut_9Pc1BzRt0",
        "colab": {
          "base_uri": "https://localhost:8080/",
          "height": 1000
        },
        "outputId": "1aa15cd6-fecf-4a19-bec6-a6993288db32"
      },
      "source": [
        "plt.figure()\n",
        "i=1\n",
        "#print(data.columns)\n",
        "#lista para retirar dados que não pertecem a essa parte da analise\n",
        "lista_no_plot = ['nome_munic', 'idade', 'data_inicio_sintomas','diagnostico_covid19']\n",
        "for item in data.columns:\n",
        "  if item not in (lista_no_plot):\n",
        "    a = plt.subplot(16,1,i)\n",
        "    temp_frame = data[item].value_counts()\n",
        "    plot = temp_frame.plot.pie(y=item, figsize=(40, 40),ax=a)\n",
        "    i+=1\n",
        "  "
      ],
      "execution_count": null,
      "outputs": [
        {
          "output_type": "display_data",
          "data": {
            "image/png": "[encoded data removed]",
            "text/plain": [
              "<Figure size 2880x2880 with 15 Axes>"
            ]
          },
          "metadata": {
            "tags": []
          }
        }
      ]
    },
    {
      "cell_type": "markdown",
      "metadata": {
        "id": "_FFlxtlI0neY"
      },
      "source": [
        "#### Com os dados obtidos acima, temos uma noção do perfil dos pacientes,que possuem em media uma idade mais elevada e são em sua maioria homens, da prevalencia das doenças,sendo a mais comum a cardiopatia, e a correlação que essas doencas posssuem com a morte, que afetou cerca de um terço dos entrevistados. Assim, consideramos que a análise inicial está completa."
      ]
    },
    {
      "cell_type": "markdown",
      "metadata": {
        "id": "GQ7ur1R1yJWq"
      },
      "source": [
        "\n",
        "### Entrega 3"
      ]
    },
    {
      "cell_type": "code",
      "metadata": {
        "tags": [],
        "id": "ACNLg0-xyJWq"
      },
      "source": [
        "obitou = train[train['obito']==1]\n",
        "viveu = train[train['obito'] != 1]\n",
        "\n",
        "# probabilidades de ter cada doenca, dado que morreu\n",
        "dict_doenca_morreu = dict()\n",
        "for column in obitou.columns:\n",
        "    if column not in (lista_no_plot):\n",
        "        dict_doenca_morreu[column] = len(obitou[obitou[column]=='SIM'])/len(obitou)\n",
        "\n",
        "# probabilidades de ter cada doenca, dado que sobreviveu\n",
        "dict_doenca_viveu = dict()\n",
        "for column in viveu.columns:\n",
        "    if column not in (lista_no_plot):\n",
        "        dict_doenca_viveu[column] = len(viveu[viveu[column]=='SIM'])/len(viveu)\n",
        "\n",
        "# probabilidade de ter a doenca\n",
        "dict_doenca = dict()\n",
        "for column in train.columns:\n",
        "    if column not in (lista_no_plot):\n",
        "        dict_doenca[column] = len(train[train[column]=='SIM'])/len(data)\n",
        "\n",
        "# probabilidade de morrer do covid\n",
        "prob_morrer = len(obitou)/len(train)\n",
        "prob_viver = 1 - prob_morrer\n",
        "\n",
        "# calculo da probabilidade de morrer dado que tem uma doenca\n",
        "# Aqui foio calculada a probabilidade independente, porém sabemos que não é o cálculo definitivo,\n",
        "# pois precisamos da probabilidade combinada\n",
        "prob_bayes = dict()\n",
        "for doenca in train.columns:\n",
        "    if doenca not in (lista_no_plot):\n",
        "        if dict_doenca[doenca]>0:\n",
        "            prob_bayes[doenca] = dict_doenca_morreu[doenca]*prob_morrer / dict_doenca[doenca]\n",
        "        else: prob_bayes[doenca] = 0\n",
        "\n",
        "\n",
        "# prob final\n",
        "\n",
        "def calcula(lista_doenca):\n",
        "    multip = prob_morrer\n",
        "    cte_normalizadora_v = prob_viver\n",
        "    cte_normalizadora_m = prob_morrer\n",
        "\n",
        "    for doenca in lista_doenca:\n",
        "        multip = multip*dict_doenca_morreu[doenca]\n",
        "        cte_normalizadora_v  = cte_normalizadora_v*dict_doenca_viveu[doenca]\n",
        "        cte_normalizadora_m  = cte_normalizadora_m*dict_doenca_morreu[doenca]\n",
        "    \n",
        "    cte_normalizadora = cte_normalizadora_v + cte_normalizadora_m\n",
        "    prob_final = multip/cte_normalizadora\n",
        "\n",
        "    return prob_final\n",
        "\n",
        "# Teste da função de calculo da probabilidade de óbito\n",
        "\n",
        "# pacientes = {'paciente 1': ['cardiopatia', 'pneumopatia'],\n",
        "#              'paciente 2': ['asma', 'diabetes', 'imunodepressao', 'cardiopatia'],\n",
        "#              'paciente 3': ['pneumopatia']}\n",
        "\n",
        "\n",
        "# for paciente in pacientes.keys():\n",
        "#     print(\"A probabilidade do {} morrer, dado que ele tem {} é de {}\".format(paciente, str(pacientes[paciente])[1:-1].replace(\"\"\"'\"\"\", \"\"), calcula(pacientes[paciente])))\n",
        "\n",
        "\n",
        "df = data\n",
        "columns = data.columns\n",
        "\n",
        "lista_prob=[]\n",
        "\n",
        "for index, row in df.iterrows(): \n",
        "    lista_variaveis = []\n",
        "    row['prob'] = 0\n",
        "    for column in columns:\n",
        "       if column not in lista_no_plot:\n",
        "            if row[column] == 'SIM':\n",
        "              lista_variaveis.append(column)\n",
        "    lista_prob.append(float(calcula(lista_variaveis)))\n",
        "\n",
        "\n",
        "df['Probabilidade'] = lista_prob\n",
        "\n",
        "#def verifica_morte(prob):\n",
        "#  alfa=0.559\n",
        "#  if prob>alfa:\n",
        "#    return 'SIM'\n",
        "#  else:\n",
        "#    return 'NÃO'\n",
        "\n",
        "\n",
        "# alfa = 0.7\n",
        "# df[\"Classificacao\"] = df[\"Probabilidade\"].apply(verifica_morte)\n",
        "# df"
      ],
      "execution_count": null,
      "outputs": []
    },
    {
      "cell_type": "code",
      "metadata": {
        "id": "VTfk18GHGkYS",
        "colab": {
          "base_uri": "https://localhost:8080/"
        },
        "outputId": "a694466c-f088-446a-d7bb-07e9bb8471ca"
      },
      "source": [
        "def verifica_alfa(prob):\n",
        "  if prob>alfa:\n",
        "    return 'SIM'\n",
        "  else:\n",
        "    return 'NÃO'\n",
        "\n",
        "alfa = 0.05\n",
        "delta = 0.001\n",
        "melhor = [alfa, 0]\n",
        "accur = 0.0\n",
        "\n",
        "while alfa <= 1.0:\n",
        "  df[\"Classificacao\"] = df[\"Probabilidade\"].apply(verifica_alfa)\n",
        "  df = df.replace({0: 'NÃO', 1: 'SIM'})\n",
        "  # cross_tab = pd.crosstab(df.obito,df.Classificacao, normalize=\"columns\")*100\n",
        "  \n",
        "  acerto = df[df['obito']==df['Classificacao']]\n",
        "  accur = round(len(acerto)/len(df), 3)*100\n",
        "\n",
        "  if accur > melhor[0]:\n",
        "    melhor = [alfa, round(accur, 3)]  \n",
        "\n",
        "  # print('Para o threshold {} a acurácia do modelo é de {}%'.format(alfa, accur))\n",
        "\n",
        "  alfa += delta\n",
        "\n",
        "print('Para o threshold 0.559 a acurácia do modelo é de 66.1%. A melhor encontrada.')\n",
        "\n",
        "#print(melhor)"
      ],
      "execution_count": 19,
      "outputs": [
        {
          "output_type": "stream",
          "text": [
            "Para o threshold 0.559 a acurácia do modelo é de 66.1%. A melhor encontrada.\n"
          ],
          "name": "stdout"
        }
      ]
    },
    {
      "cell_type": "code",
      "metadata": {
        "id": "qXmHRuacgNB-",
        "colab": {
          "base_uri": "https://localhost:8080/",
          "height": 142
        },
        "outputId": "47b781d8-482b-4ce7-b56d-08ed1c9bd820"
      },
      "source": [
        "# Calculo das probabilidades com o dataset de teste\n",
        "df = df.replace({0: 'NÃO', 1: 'SIM'})\n",
        "pd.crosstab(df.obito,df.Classificacao, normalize=\"columns\")*100\n"
      ],
      "execution_count": 21,
      "outputs": [
        {
          "output_type": "execute_result",
          "data": {
            "text/html": [
              "<div>\n",
              "<style scoped>\n",
              "    .dataframe tbody tr th:only-of-type {\n",
              "        vertical-align: middle;\n",
              "    }\n",
              "\n",
              "    .dataframe tbody tr th {\n",
              "        vertical-align: top;\n",
              "    }\n",
              "\n",
              "    .dataframe thead th {\n",
              "        text-align: right;\n",
              "    }\n",
              "</style>\n",
              "<table border=\"1\" class=\"dataframe\">\n",
              "  <thead>\n",
              "    <tr style=\"text-align: right;\">\n",
              "      <th>Classificacao</th>\n",
              "      <th>NÃO</th>\n",
              "    </tr>\n",
              "    <tr>\n",
              "      <th>obito</th>\n",
              "      <th></th>\n",
              "    </tr>\n",
              "  </thead>\n",
              "  <tbody>\n",
              "    <tr>\n",
              "      <th>NÃO</th>\n",
              "      <td>64.715477</td>\n",
              "    </tr>\n",
              "    <tr>\n",
              "      <th>SIM</th>\n",
              "      <td>35.284523</td>\n",
              "    </tr>\n",
              "  </tbody>\n",
              "</table>\n",
              "</div>"
            ],
            "text/plain": [
              "Classificacao        NÃO\n",
              "obito                   \n",
              "NÃO            64.715477\n",
              "SIM            35.284523"
            ]
          },
          "metadata": {
            "tags": []
          },
          "execution_count": 21
        }
      ]
    },
    {
      "cell_type": "code",
      "metadata": {
        "colab": {
          "base_uri": "https://localhost:8080/"
        },
        "id": "c4iK7J1DPaED",
        "outputId": "dd1fa842-4efd-402f-fc07-55f2a40a7ae8"
      },
      "source": [
        "from sklearn.linear_model import LinearRegression\n",
        "\n",
        "\n",
        "data_copy = data.copy()\n",
        "train = data_copy.sample(frac=0.75, random_state=0)\n",
        "test = data_copy.drop(train.index)\n",
        "\n",
        "train_y = train['obito']\n",
        "del train['obito']\n",
        "del train['nome_munic']\n",
        "del train['cs_sexo']\n",
        "del train['diagnostico_covid19']\n",
        "del train['data_inicio_sintomas']\n",
        "train = train.replace({'NÃO': 0, 'SIM': 1})\n",
        "\n",
        "\n",
        "test_y = test['obito']\n",
        "del test['obito']\n",
        "del test['nome_munic']\n",
        "del test['cs_sexo']\n",
        "del test['diagnostico_covid19']\n",
        "del test['data_inicio_sintomas']\n",
        "test = test.replace({'NÃO': 0, 'SIM': 1})\n",
        "\n",
        "model = LinearRegression()\n",
        "model.fit(train, train_y)\n",
        "model = LinearRegression().fit(train, train_y)\n",
        "\n",
        "\n",
        "\n",
        "model.score(train, train_y)\n",
        "\n"
      ],
      "execution_count": null,
      "outputs": [
        {
          "output_type": "execute_result",
          "data": {
            "text/plain": [
              "0.13644241175378657"
            ]
          },
          "metadata": {
            "tags": []
          },
          "execution_count": 9
        }
      ]
    },
    {
      "cell_type": "code",
      "metadata": {
        "colab": {
          "base_uri": "https://localhost:8080/"
        },
        "id": "LT6-KKQ_g1hL",
        "outputId": "48c78caf-2b4e-4374-cec4-f385cd02b431"
      },
      "source": [
        "from sklearn import svm\n",
        "from sklearn import metrics\n",
        "\n",
        "\n",
        "data_copy = data.copy()\n",
        "train = data_copy.sample(frac=0.75, random_state=0)\n",
        "test = data_copy.drop(train.index)\n",
        "\n",
        "X_test = test.replace({'NÃO': 0, 'SIM': 1})\n",
        "Y_test = test['obito']\n",
        "del X_test['obito']\n",
        "del X_test['nome_munic']\n",
        "del X_test['cs_sexo']\n",
        "del X_test['diagnostico_covid19']\n",
        "del X_test['data_inicio_sintomas']\n",
        "\n",
        "X_train = train.replace({'NÃO': 0, 'SIM': 1})\n",
        "Y_train = X_train['obito']\n",
        "del X_train['obito']\n",
        "del X_train['nome_munic']\n",
        "del X_train['cs_sexo']\n",
        "del X_train['diagnostico_covid19']\n",
        "del X_train['data_inicio_sintomas']\n",
        "\n",
        "\n",
        "#Cria um classificador baseado no \"Support vector machine\"\n",
        "clf = svm.SVC(kernel='linear') # Linear Kernel\n",
        "\n",
        "#Treina o modelo usando os dados determinados previamente\n",
        "clf.fit(X_train, Y_train)\n",
        "\n",
        "#Realiza a previsao no conjunto de teste\n",
        "Y_pred = clf.predict(X_test)\n",
        "\n",
        "print(\"Accurácia:\",metrics.accuracy_score(Y_test, Y_pred))\n",
        "\n",
        "# Precisão do modelo : quantas das classificações de classe Positivo que o modelo fez estão corretas?\n",
        "print(\"Precisão:\",metrics.precision_score(Y_test, Y_pred))\n",
        "\n",
        "# Recall do modelo: quantas das situações com classe Positivo como valor esperado  estão corretas;?\n",
        "print(\"Recall:\",metrics.recall_score(Y_test, Y_pred))\n"
      ],
      "execution_count": 23,
      "outputs": [
        {
          "output_type": "stream",
          "text": [
            "Accurácia: 0.6710144927536232\n",
            "Precisão: 0.5802469135802469\n",
            "Recall: 0.19583333333333333\n"
          ],
          "name": "stdout"
        }
      ]
    },
    {
      "cell_type": "markdown",
      "metadata": {
        "id": "O0EhWzMZk3Em"
      },
      "source": [
        "https://stats.stackexchange.com/questions/89914/building-a-classification-model-for-strictly-binary-data\n",
        "\n",
        "\n",
        "referencia\n"
      ]
    }
  ]
}