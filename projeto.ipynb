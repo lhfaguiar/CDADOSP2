{
  "nbformat": 4,
  "nbformat_minor": 0,
  "metadata": {
    "colab": {
      "name": "projeto.ipynb",
      "provenance": [],
      "collapsed_sections": [],
      "toc_visible": true,
      "include_colab_link": true
    },
    "kernelspec": {
      "name": "python3",
      "display_name": "Python 3"
    }
  },
  "cells": [
    {
      "cell_type": "markdown",
      "metadata": {
        "id": "view-in-github",
        "colab_type": "text"
      },
      "source": [
        "<a href=\"https://colab.research.google.com/github/lhfaguiar/CDADOSP2/blob/main/projeto.ipynb\" target=\"_parent\"><img src=\"https://colab.research.google.com/assets/colab-badge.svg\" alt=\"Open In Colab\"/></a>"
      ]
    },
    {
      "cell_type": "markdown",
      "metadata": {
        "id": "jxsQQq0iJFXJ"
      },
      "source": [
        "# Ciência dos Dados - 2020 / Segundo Semestre\n",
        "\n",
        "## Projeto 2"
      ]
    },
    {
      "cell_type": "markdown",
      "metadata": {
        "id": "fWnPS66pwPOT"
      },
      "source": [
        "## Informações do grupo"
      ]
    },
    {
      "cell_type": "markdown",
      "metadata": {
        "id": "rErNAdXcu5UN"
      },
      "source": [
        "Membros:\n",
        "Carlos Eduardo Abdelmalack Simodo, Lai Aguiar\n"
      ]
    },
    {
      "cell_type": "markdown",
      "metadata": {
        "id": "l9VVpmSJPwVo"
      },
      "source": [
        "O trabalho foi realisado em sua maioria utilizando o google colab, no qual os integrantes discutiram em conjunto a maioria das alterações. Apesar de o trabalho ter sido feito em conjunto, o Lai teve uma maior presença na primeira parte do trabalho,ou seja, na limpeza, criacão de graficos , enquanto o Carlos focou na correção de problemas e edição e comentario do documento. Os modelos foram onde o trabalho foi mais discutido."
      ]
    },
    {
      "cell_type": "markdown",
      "metadata": {
        "id": "BumpkgrAvWDD"
      },
      "source": [
        "Fonte de onde foram retirados os dados utilizados no projeot :  https://github.com/seade-R/dados-covid-sp , repositório público com dados da covid no estado de São Paulo\n"
      ]
    },
    {
      "cell_type": "markdown",
      "metadata": {
        "id": "PM2PJO5AvKVX"
      },
      "source": [
        "## Introdução"
      ]
    },
    {
      "cell_type": "markdown",
      "metadata": {
        "id": "cGDju0QQv0EQ"
      },
      "source": [
        "Nesse trabalho, o nosso grupo decidiu aproveitar a grande quantidade de dados sobre a covid-19 para modelar um classificador . Esse classificador tem como objetivo o cálculo da probabilidade de uma pessoa infectada com a Covid-19 falecer, e para isso ele considera as doenças possuídas e o sexo do entrevistado (como iremos nos referir às pessoas cujos dados utilizamos para realizar o projeto). "
      ]
    },
    {
      "cell_type": "markdown",
      "metadata": {
        "id": "4Y6i3iHwx82B"
      },
      "source": [
        "## Código\n"
      ]
    },
    {
      "cell_type": "markdown",
      "metadata": {
        "id": "SNbvtjfHuuIr"
      },
      "source": [
        "### Imports"
      ]
    },
    {
      "cell_type": "code",
      "metadata": {
        "id": "dEMfMMmyutWF"
      },
      "source": [
        "import pandas as pd\n",
        "import csv\n",
        "import numpy as np\n",
        "%matplotlib inline\n",
        "import matplotlib.pyplot as plt\n"
      ],
      "execution_count": 1,
      "outputs": []
    },
    {
      "cell_type": "markdown",
      "metadata": {
        "id": "tYO02CT1yDUV"
      },
      "source": [
        "### Limpeza do dataframe"
      ]
    },
    {
      "cell_type": "markdown",
      "metadata": {
        "id": "Iv0vsCRavKUM"
      },
      "source": [
        "Antes de programarmos um classificador, realizamos uma limpeza no dataset que planejávamos utilizar.  Analisando o dataset, percebemos que algumas das informações presentes nesse não tinham relevância para o projeto. Alem disso, também decidimos excluir entrevistados cujas informações não estavam completas, para não apenas aumentar a acurácia dos dados coletados, mas também para reduzir o tamanho do dataframe (que inicialmente possuía mas de 1milhão de entrevistados). "
      ]
    },
    {
      "cell_type": "code",
      "metadata": {
        "id": "3-rt3dgFJFXV"
      },
      "source": [
        "data = pd.read_csv('casos_obitos_doencas_preexistentes.csv', sep=';')\n",
        "\n",
        "\n",
        "# Eliminamos a coluna codigo_ibge por ela não nos trazer uma informação relevante,\n",
        "# já que decidimos trabalhar apenas com   comorbidades, idade, sexo \n",
        "del data['codigo_ibge']\n",
        "\n",
        "# Eliminamos as linhas da tabela onde temos informações repetidas e \n",
        "# incoerentes como idade = 120 anos\n",
        "# Também eliminamos todos identificadores IGNORADO ou vazios\n",
        "data = data[data['idade'] < 120]\n",
        "\n",
        "data = data.applymap(lambda x: np.nan if x == 'IGNORADO' else x).dropna()\n",
        "# data = data[data != np.nan()]\n",
        "# data = data.replace('IGNORADO', 'NÃO')\n",
        "# data = data.replace('NaN', 'NÃO')\n",
        "\n",
        "#data.to_csv('casos_obitos_doencas_preexistentes_tratado.csv', sep=';')"
      ],
      "execution_count": 2,
      "outputs": []
    },
    {
      "cell_type": "markdown",
      "metadata": {
        "id": "G1v7-nvj1Ah_"
      },
      "source": [
        "Com a limpeza concluida, separamos os dados em um dataframe de teste e um de treino, e prosseguimos para a próximo etapa."
      ]
    },
    {
      "cell_type": "code",
      "metadata": {
        "id": "kDk-YDY61Aor"
      },
      "source": [
        "data_copy = data.copy()\n",
        "train = data_copy.sample(frac=0.75, random_state=0)\n",
        "test = data_copy.drop(train.index)"
      ],
      "execution_count": 3,
      "outputs": []
    },
    {
      "cell_type": "markdown",
      "metadata": {
        "id": "Jg3vfSjTwv09"
      },
      "source": [
        "### Análise Inicial"
      ]
    },
    {
      "cell_type": "markdown",
      "metadata": {
        "id": "ngF7HmbP1xhp"
      },
      "source": [
        "Para termos uma melhor ideia dos dados com que estamos trabalhando, decidimos realizar uma análise superficial dos dados. \n",
        "A primaira parte analisada por nos foram os entrevistados. Para isso, decidimos estudar a idade, uma vez que ela é o único dado que presente em todos.\n"
      ]
    },
    {
      "cell_type": "code",
      "metadata": {
        "id": "y5Zk63Scw6Ub",
        "colab": {
          "base_uri": "https://localhost:8080/"
        },
        "outputId": "7e62e0d7-95e4-48ff-e25d-ec1dd640ce5e"
      },
      "source": [
        "media_idade = data['idade'].mean()\n",
        "mediana_idade = data['idade'].median()\n",
        "moda_idade = data['idade'].mode()\n",
        "var_idade = data['idade'].var()\n",
        "std_idade = data['idade'].std()\n",
        "\n",
        "print('A média de idade no nosso dataset é :', media_idade, '')\n",
        "print('A variância da idade no nosso dataset é: ', var_idade)\n",
        "print('O desvio padrão da idade no nosso dataset é: ', std_idade, 'que significa que os dados não estão muito espalhados')\n",
        "print('A mediana da idade no nosso dataset é: ', mediana_idade)\n",
        "print('A moda de idade no nosso dataset é: ', moda_idade, 'uma idade alta muito frequente')"
      ],
      "execution_count": 4,
      "outputs": [
        {
          "output_type": "stream",
          "text": [
            "A média de idade no nosso dataset é : 62.893096629986246 \n",
            "A variância da idade no nosso dataset é:  269.35122106814043\n",
            "O desvio padrão da idade no nosso dataset é:  16.41192313740655 que significa que os dados não estão muito espalhados\n",
            "A mediana da idade no nosso dataset é:  64.0\n",
            "A moda de idade no nosso dataset é:  0    67.0\n",
            "dtype: float64 uma idade alta muito frequente\n"
          ],
          "name": "stdout"
        }
      ]
    },
    {
      "cell_type": "markdown",
      "metadata": {
        "id": "dE53qGYKxjmj"
      },
      "source": [
        "#### Para realizar essa análise, verificamos não apenas a média das idades, como tambem a meidana e a moda. Fizemos isso pois queriamos evitar a influencia dos outliers. Percebemos que tanto a idade média quanto a mediana e a moda estão muito altas, indicando que a maioria dos entrevistados realmente possuem idades elevadas. Com um melhor entendimento dos entrevistados, decidimos partir para as comorbidades, sendo que elas copoem a maior parte dos dados analisados."
      ]
    },
    {
      "cell_type": "code",
      "metadata": {
        "id": "ez3KIAFCKvBJ",
        "colab": {
          "base_uri": "https://localhost:8080/"
        },
        "outputId": "a2847dc6-e227-4e97-d1a2-359956007696"
      },
      "source": [
        "data_temp = data.replace({'NÃO': 0, 'SIM': 1})\n",
        "print(data_temp.corr())"
      ],
      "execution_count": 5,
      "outputs": [
        {
          "output_type": "stream",
          "text": [
            "                            idade     obito  ...  puerpera  sindrome_de_down\n",
            "idade                    1.000000  0.297827  ... -0.079747         -0.038365\n",
            "obito                    0.297827  1.000000  ... -0.025594         -0.001013\n",
            "asma                    -0.105307 -0.040101  ...  0.007501          0.014850\n",
            "cardiopatia              0.230536  0.069318  ... -0.039510         -0.014788\n",
            "diabetes                 0.092998  0.046980  ... -0.017723         -0.006785\n",
            "doenca_hematologica     -0.015454  0.018749  ...  0.000988          0.062531\n",
            "doenca_hepatica         -0.008573  0.038744  ...  0.003247          0.079719\n",
            "doenca_neurologica       0.149763  0.109948  ... -0.008948          0.023834\n",
            "doenca_renal             0.039058  0.093995  ... -0.002968          0.006670\n",
            "imunodepressao          -0.048770  0.044293  ... -0.006931          0.024347\n",
            "obesidade               -0.170742 -0.010129  ... -0.008326          0.010757\n",
            "outros_fatores_de_risco  0.015578  0.047074  ... -0.015972         -0.000672\n",
            "pneumopatia              0.079974  0.078111  ... -0.008302          0.017315\n",
            "puerpera                -0.079747 -0.025594  ...  1.000000          0.009300\n",
            "sindrome_de_down        -0.038365 -0.001013  ...  0.009300          1.000000\n",
            "\n",
            "[15 rows x 15 columns]\n"
          ],
          "name": "stdout"
        }
      ]
    },
    {
      "cell_type": "markdown",
      "metadata": {
        "id": "xaQl9L9IzP3C"
      },
      "source": [
        "#### Plotamos inicialmente uma matriz de correlação, pois com ela podemos visualizar a correlação entre as doencas e o obito. Percebemos que a variavel que possui a maior correlação com o óbito é a idade,  algo que ja esperavamos, mas não tinhamos como comprovar. Tambem esperavamos uma correlação mais alta da pneumopatia com o obto, uma vez que ela é uma doença respiratoria, mas segundo a matriz ela não possui tanta correlação quanto o esperado."
      ]
    },
    {
      "cell_type": "markdown",
      "metadata": {
        "id": "aLdFLuhXz7bZ"
      },
      "source": [
        "#### Verificando que as correlações são muito baixas, percebemos que por lidarmos com variaveis binarias, a correlação se torna uma análise infrutifera, logo abandonamos a anãlise de correlação e dos graficos de scatterplor, que planejavamos utilizar. Decidimos então analisar a prevalencia das doenças nos entrevistados, uma vez que ela está diretamente relacionada com a probabilidade de ter cada doença. Para isso utilizamos gráficos de setores(pizza), pois apesar de não ofereceram análises complexas, nos permitem ter uma ideia mais geral da situação,e esse é o nosso objetivo nessa análise."
      ]
    },
    {
      "cell_type": "code",
      "metadata": {
        "id": "ut_9Pc1BzRt0",
        "colab": {
          "base_uri": "https://localhost:8080/",
          "height": 0
        },
        "outputId": "6c8293d2-bee7-4f76-bda4-37379280750c"
      },
      "source": [
        "plt.figure()\n",
        "i=1\n",
        "#print(data.columns)\n",
        "#lista para retirar dados que não pertecem a essa parte da analise\n",
        "lista_no_plot = ['nome_munic', 'idade', 'data_inicio_sintomas','diagnostico_covid19']\n",
        "for item in data.columns:\n",
        "  if item not in (lista_no_plot):\n",
        "    a = plt.subplot(16,1,i)\n",
        "    temp_frame = data[item].value_counts()\n",
        "    plot = temp_frame.plot.pie(y=item, figsize=(40, 40),ax=a)\n",
        "    i+=1\n",
        "  "
      ],
      "execution_count": 6,
      "outputs": [
        {
          "output_type": "display_data",
          "data": {
            "image/png": "[encoded data removed]",
            "text/plain": [
              "<Figure size 2880x2880 with 15 Axes>"
            ]
          },
          "metadata": {
            "tags": []
          }
        }
      ]
    },
    {
      "cell_type": "markdown",
      "metadata": {
        "id": "_FFlxtlI0neY"
      },
      "source": [
        "#### Com os dados obtidos acima, fomos capazes de obter uma noção: do perfil dos pacientes,que possuem em media uma idade mais elevada e são em sua maioria homens, da prevalencia das doenças,sendo a mais comum a cardiopatia, e a correlação que essas doencas posssuem com a morte, que afetou cerca de um terço dos entrevistados. Com isso, decidimos que possuimos informações o suficiente para entender superficialmente os dados, e começamos a criação do modelo."
      ]
    },
    {
      "cell_type": "markdown",
      "metadata": {
        "id": "GQ7ur1R1yJWq"
      },
      "source": [
        "### Primeiro Modelo"
      ]
    },
    {
      "cell_type": "markdown",
      "metadata": {
        "id": "CsiZ4I0A932t"
      },
      "source": [
        "Para o nosso modelo, decidimos criar um Naive Bayes. Entre os motivos pelos quais decidimos optar por esso modelo, estão o fato de que no mundo da medicina ele costuma ser o mais utilizado como uma primeira analise, e que nos ja possuiamos experiencia lidando com esse classificador. O Naive Bayes é um classificador que parte do principio de que todas as variaveis são independentes, e embora não seja o mais elaborado dos classificadores, é um muito presente em análise de dados. (link sobre o uso do naive bayes na área médica: http://www.scielo.br/scielo.php?script=sci_arttext&pid=S0303-76572019000101401)."
      ]
    },
    {
      "cell_type": "markdown",
      "metadata": {
        "id": "POOF5O4ED5Wy"
      },
      "source": [
        "Para criar um classificador desses, é necessario o calculo das porcentagens envolvendo as doenças, e é isso que realizamos a seguir. (Iremos , para facilitação do processo, considerar o sexo como a  uma doença, uma vez que é uma variavel binaria e por acreditarmos que esse agrupamento não influencia negativamente o modelo)."
      ]
    },
    {
      "cell_type": "code",
      "metadata": {
        "tags": [],
        "id": "ACNLg0-xyJWq"
      },
      "source": [
        "obitou = train[train['obito']==1]\n",
        "viveu = train[train['obito'] != 1]\n",
        "\n",
        "# probabilidades de ter cada doenca, dado que morreu\n",
        "dict_doenca_morreu = dict()\n",
        "for column in obitou.columns:\n",
        "    if column not in (lista_no_plot):\n",
        "        dict_doenca_morreu[column] = len(obitou[obitou[column]=='SIM'])/len(obitou)\n",
        "\n",
        "# probabilidades de ter cada doenca, dado que sobreviveu\n",
        "dict_doenca_viveu = dict()\n",
        "for column in viveu.columns:\n",
        "    if column not in (lista_no_plot):\n",
        "        dict_doenca_viveu[column] = len(viveu[viveu[column]=='SIM'])/len(viveu)\n",
        "\n",
        "# probabilidade de ter cada doenca\n",
        "dict_doenca = dict()\n",
        "for column in train.columns:\n",
        "    if column not in (lista_no_plot):\n",
        "        dict_doenca[column] = len(train[train[column]=='SIM'])/len(data)\n",
        "\n",
        "# probabilidade de morrer do covid\n",
        "prob_morrer = len(obitou)/len(train)\n",
        "prob_viver = 1 - prob_morrer\n",
        "\n",
        "# calculo da probabilidade de morrer dado que tem uma doenca\n",
        "# Aqui foi calculada a probabilidade independente, porém sabemos que não é o cálculo definitivo,pois precisamos da probabilidade combinada\n",
        "prob_bayes = dict()\n",
        "for doenca in train.columns:\n",
        "    if doenca not in (lista_no_plot):\n",
        "        if dict_doenca[doenca]>0:\n",
        "            prob_bayes[doenca] = dict_doenca_morreu[doenca]*prob_morrer / dict_doenca[doenca]\n",
        "        else: prob_bayes[doenca] = 0"
      ],
      "execution_count": 7,
      "outputs": []
    },
    {
      "cell_type": "code",
      "metadata": {
        "id": "CFotd7dbHsF6"
      },
      "source": [
        ""
      ],
      "execution_count": 7,
      "outputs": []
    },
    {
      "cell_type": "markdown",
      "metadata": {
        "id": "qFAXZjUtA57A"
      },
      "source": [
        "Com as probabilidades já calculadas, pudemos criar um modelo simplificado, que nos permitiu testar a funcionabilidade de nosso modelo."
      ]
    },
    {
      "cell_type": "code",
      "metadata": {
        "colab": {
          "base_uri": "https://localhost:8080/"
        },
        "id": "aJZY30S4A6Hk",
        "outputId": "ca1062f2-c37b-40f9-8a25-af2c325632c3"
      },
      "source": [
        "# prob final\n",
        "def calcula(lista_doenca):\n",
        "    multip = prob_morrer\n",
        "    cte_normalizadora_v = prob_viver\n",
        "    cte_normalizadora_m = prob_morrer\n",
        "\n",
        "    for doenca in lista_doenca:\n",
        "        multip = multip*dict_doenca_morreu[doenca]\n",
        "        cte_normalizadora_v  = cte_normalizadora_v*dict_doenca_viveu[doenca]\n",
        "        cte_normalizadora_m  = cte_normalizadora_m*dict_doenca_morreu[doenca]\n",
        "    \n",
        "    cte_normalizadora = cte_normalizadora_v + cte_normalizadora_m\n",
        "    prob_final = multip/cte_normalizadora\n",
        "\n",
        "    return prob_final\n",
        "\n",
        "#Teste da função de calculo da probabilidade de óbito\n",
        "\n",
        "pacientes = {'paciente 1': ['cardiopatia', 'pneumopatia'],\n",
        "            'paciente 2': ['asma', 'diabetes', 'imunodepressao', 'cardiopatia'],\n",
        "            'paciente 3': ['pneumopatia']}\n",
        "\n",
        "\n",
        "for paciente in pacientes.keys():\n",
        "    print(\"A probabilidade do {} morrer, dado que ele tem {} é de {}\".format(paciente, str(pacientes[paciente])[1:-1].replace(\"\"\"'\"\"\", \"\"), calcula(pacientes[paciente])))\n",
        "\n",
        "\n",
        "df = test\n",
        "test['Probabilidade']=0\n",
        "test['Classificacao']=0\n",
        "columns = data.columns\n",
        "\n",
        "lista_prob=[]\n",
        "\n",
        "for index, row in df.iterrows(): \n",
        "    lista_variaveis = []\n",
        "    row['prob'] = 0\n",
        "    for column in columns:\n",
        "       if column not in lista_no_plot:\n",
        "            if row[column] == 'SIM':\n",
        "              lista_variaveis.append(column)\n",
        "    lista_prob.append(float(calcula(lista_variaveis)))\n",
        "\n",
        "df['Probabilidade'] = lista_prob\n",
        "\n",
        "#def verifica_morte(prob):\n",
        "#  alfa=0.559\n",
        "#  if prob>alfa:\n",
        "#    return 'SIM'\n",
        "#  else:\n",
        "#    return 'NÃO'\n",
        "\n",
        "\n",
        "# alfa = 0.7\n",
        "# df[\"Classificacao\"] = df[\"Probabilidade\"].apply(verifica_morte)\n",
        "# df"
      ],
      "execution_count": 8,
      "outputs": [
        {
          "output_type": "stream",
          "text": [
            "A probabilidade do paciente 1 morrer, dado que ele tem cardiopatia, pneumopatia é de 0.5376343640177182\n",
            "A probabilidade do paciente 2 morrer, dado que ele tem asma, diabetes, imunodepressao, cardiopatia é de 0.3900032672954768\n",
            "A probabilidade do paciente 3 morrer, dado que ele tem pneumopatia é de 0.5076687116564418\n"
          ],
          "name": "stdout"
        }
      ]
    },
    {
      "cell_type": "markdown",
      "metadata": {
        "id": "OkiHTgn8BuhD"
      },
      "source": [
        "Com o modelo de teste pronto, observamos que o classificador foi capaz de considerar diversas doenças pré-existentes. Decidimos não preparar o modelo para valores desconhecidos, pois o modelo trabalha com variaveis binarias, e informações que não eram conhecidas foram retiradas na limepza do dataset, o modelo teoricamente não teria problemas em relação a isso."
      ]
    },
    {
      "cell_type": "markdown",
      "metadata": {
        "id": "5FrR_nSCDNag"
      },
      "source": [
        "Com a probabilidade de obito já calculada, decidimos prosseguir para a verificação do obito. Essa etapa consistiu na descoberta de uma constante que serviria de parametro para o classificador, sendo que os testes com probabilidades maiores que esse parametro seriam considerados como obitos, e os testes com menores como não obitos. "
      ]
    },
    {
      "cell_type": "markdown",
      "metadata": {
        "id": "JQuHyg3fD7sh"
      },
      "source": [
        "A obtenção dessa constante foi feita por meio de testes, em que o computador iria comparar probabilidades calculadas com diferentes constantes, comparando o resultado com os dados do dataframe."
      ]
    },
    {
      "cell_type": "code",
      "metadata": {
        "id": "VTfk18GHGkYS",
        "colab": {
          "base_uri": "https://localhost:8080/"
        },
        "outputId": "af16a566-1dae-410a-c9e0-b6c20af31f62"
      },
      "source": [
        "def verifica_alfa(prob):\n",
        "  if prob>alfa:\n",
        "    return 'SIM'\n",
        "  else:\n",
        "    return 'NÃO'\n",
        "\n",
        "alfa = 0.05\n",
        "delta = 0.01\n",
        "melhor = [alfa, 0]\n",
        "accur = 0.0\n",
        "\n",
        "while alfa <= 1.0:\n",
        "  df[\"Classificacao\"] = df[\"Probabilidade\"].apply(verifica_alfa)\n",
        "  df = df.replace({0: 'NÃO', 1: 'SIM'})\n",
        "  #cross_tab = pd.crosstab(df.obito,df.Classificacao, normalize=\"columns\")*100\n",
        "  \n",
        "  acerto = df[df['obito']==df['Classificacao']]\n",
        "  accur = round(len(acerto)/len(df), 3)*100\n",
        "\n",
        "  if accur > melhor[1]:\n",
        "    melhor = [alfa, round(accur, 3)]  \n",
        "\n",
        "  #print('Para o threshold {} a acurácia do modelo é de {}%'.format(alfa, accur))\n",
        "\n",
        "  alfa += delta\n",
        "\n",
        "print(melhor)"
      ],
      "execution_count": 9,
      "outputs": [
        {
          "output_type": "stream",
          "text": [
            "[0.5400000000000003, 66.5]\n"
          ],
          "name": "stdout"
        }
      ]
    },
    {
      "cell_type": "markdown",
      "metadata": {
        "id": "EmgmglcsG_jH"
      },
      "source": [
        "Com o modelo pronto, decidimos plotar uma matriz de confusão para comparar nossas previsõe com os dados."
      ]
    },
    {
      "cell_type": "code",
      "metadata": {
        "id": "qXmHRuacgNB-",
        "colab": {
          "base_uri": "https://localhost:8080/",
          "height": 141
        },
        "outputId": "2317e65c-777f-4b87-c75f-aab8ebb4de3b"
      },
      "source": [
        "# Calculo das probabilidades com o dataset de teste\n",
        "df = df.replace({0: 'NÃO', 1: 'SIM'})\n",
        "pd.crosstab(df.obito,df.Classificacao, normalize=\"columns\")*100\n"
      ],
      "execution_count": 10,
      "outputs": [
        {
          "output_type": "execute_result",
          "data": {
            "text/html": [
              "<div>\n",
              "<style scoped>\n",
              "    .dataframe tbody tr th:only-of-type {\n",
              "        vertical-align: middle;\n",
              "    }\n",
              "\n",
              "    .dataframe tbody tr th {\n",
              "        vertical-align: top;\n",
              "    }\n",
              "\n",
              "    .dataframe thead th {\n",
              "        text-align: right;\n",
              "    }\n",
              "</style>\n",
              "<table border=\"1\" class=\"dataframe\">\n",
              "  <thead>\n",
              "    <tr style=\"text-align: right;\">\n",
              "      <th>Classificacao</th>\n",
              "      <th>NÃO</th>\n",
              "    </tr>\n",
              "    <tr>\n",
              "      <th>obito</th>\n",
              "      <th></th>\n",
              "    </tr>\n",
              "  </thead>\n",
              "  <tbody>\n",
              "    <tr>\n",
              "      <th>NÃO</th>\n",
              "      <td>65.061898</td>\n",
              "    </tr>\n",
              "    <tr>\n",
              "      <th>SIM</th>\n",
              "      <td>34.938102</td>\n",
              "    </tr>\n",
              "  </tbody>\n",
              "</table>\n",
              "</div>"
            ],
            "text/plain": [
              "Classificacao        NÃO\n",
              "obito                   \n",
              "NÃO            65.061898\n",
              "SIM            34.938102"
            ]
          },
          "metadata": {
            "tags": []
          },
          "execution_count": 10
        }
      ]
    },
    {
      "cell_type": "markdown",
      "metadata": {
        "id": "T90k8jg2FJ_G"
      },
      "source": [
        "### Modelo 2"
      ]
    },
    {
      "cell_type": "markdown",
      "metadata": {
        "id": "HdmH1A9aE0IN"
      },
      "source": [
        "Com a constate ja calculada , o nosso primeiro modelo ja está pronto. Como não estavamos satisfeitos com os resultados dele, decidimos criar um novo, dessa vez utilizando outras tecnicas de modelagem."
      ]
    },
    {
      "cell_type": "markdown",
      "metadata": {
        "id": "nZaIstyOFIXF"
      },
      "source": [
        "O modelo consiste em uma regressão linear, um modelo utilizado em sala de aula, que  tem como objectivo tratar de um valor que não se consegue estimar inicialmente."
      ]
    },
    {
      "cell_type": "markdown",
      "metadata": {
        "id": "B1yXWK1OMw3e"
      },
      "source": [
        "Para criar esse classificador , é necessario definir as colunas que serão utilizadas. Nesse classificador decidimos utilizar colunas que foram ignoradas no primeiro modelo, esperando aumentar a precisão. "
      ]
    },
    {
      "cell_type": "markdown",
      "metadata": {
        "id": "O0EhWzMZk3Em"
      },
      "source": [
        "Durante a criação do modelo, tivemos problemas para terminar o classificados, e acabamos tendo que recorrer a um site externo(https://stats.stackexchange.com/questions/89914/building-a-classification-model-for-strictly-binary-data) , o qual nos ajudou a corrigir nossos erros. \n",
        "\n"
      ]
    },
    {
      "cell_type": "code",
      "metadata": {
        "colab": {
          "base_uri": "https://localhost:8080/"
        },
        "id": "LT6-KKQ_g1hL",
        "outputId": "6d728660-1b25-4cff-d714-dc7d11127621"
      },
      "source": [
        "from sklearn import svm\n",
        "from sklearn import metrics\n",
        "from sklearn.linear_model import LinearRegression\n",
        "\n",
        "data_copy = data.copy()\n",
        "train = data_copy.sample(frac=0.75, random_state=0)\n",
        "test = data_copy.drop(train.index)\n",
        "\n",
        "X_test = test.replace({'NÃO': 0, 'SIM': 1})\n",
        "Y_test = test['obito']\n",
        "del X_test['obito']\n",
        "del X_test['nome_munic']\n",
        "del X_test['cs_sexo']\n",
        "del X_test['diagnostico_covid19']\n",
        "del X_test['data_inicio_sintomas']\n",
        "\n",
        "X_train = train.replace({'NÃO': 0, 'SIM': 1})\n",
        "Y_train = X_train['obito']\n",
        "del X_train['obito']\n",
        "del X_train['nome_munic']\n",
        "del X_train['cs_sexo']\n",
        "del X_train['diagnostico_covid19']\n",
        "del X_train['data_inicio_sintomas']\n",
        "\n",
        "\n",
        "#Cria um classificador \n",
        "clf = svm.SVC(kernel='linear') # Linear Kernel\n",
        "\n",
        "#Treina o modelo usando os dados determinados previamente\n",
        "clf.fit(X_train, Y_train)"
      ],
      "execution_count": 16,
      "outputs": [
        {
          "output_type": "stream",
          "text": [
            "Accurácia: 0.65517537826685\n",
            "Precisão: 0.5357624831309041\n"
          ],
          "name": "stdout"
        }
      ]
    },
    {
      "cell_type": "markdown",
      "metadata": {
        "id": "HByLJNMMMvBA"
      },
      "source": [
        "Com a parte de treino pronta, pudemos aplicar o modelo no nosso dataframe de teste"
      ]
    },
    {
      "cell_type": "code",
      "metadata": {
        "id": "eYpa09-QMvIl"
      },
      "source": [
        "#Realiza a previsao no conjunto de teste\n",
        "Y_pred = clf.predict(X_test)\n",
        "\n",
        "print(\"Accurácia:\",metrics.accuracy_score(Y_test, Y_pred))\n",
        "\n",
        "# Precisão do modelo : quantas das classificações de classe Positivo que o modelo fez estão corretas?\n",
        "print(\"Precisão:\",metrics.precision_score(Y_test, Y_pred))"
      ],
      "execution_count": null,
      "outputs": []
    },
    {
      "cell_type": "markdown",
      "metadata": {
        "id": "KgIhyhu-LOMB"
      },
      "source": [
        "Esse modelo, diferentemente do primeiro, leva em consideração não apenas, as comorbidades e o sexo, como tambem o local onde foi examinado o entrevistado e a data de contagio. Esperavamos que esse modelo fosse mais preciso que o outro, uma vez que considera mais caracteristicas que não implementamos no primeiro. Entretanto, sua acurácia se demonstrou similar à do primeiro, e além disso com o aprofundamento do nosso conhecimento sobre o assunto, percebemos que esse tipo de modelo funciona melhor para variveis continuas. "
      ]
    },
    {
      "cell_type": "markdown",
      "metadata": {
        "id": "dDHcnFpBN3e6"
      },
      "source": [
        "## Conclusão"
      ]
    },
    {
      "cell_type": "markdown",
      "metadata": {
        "id": "CQV_6GLMMWAe"
      },
      "source": [
        "Devido à semelhante performance demonstrada por ambos os modelos, e aos problemas de adequação do modelo 2, decidimos utilizar o modelo 1, uma vez que ele se adequa melhor ao assunto analisado."
      ]
    }
  ]
}